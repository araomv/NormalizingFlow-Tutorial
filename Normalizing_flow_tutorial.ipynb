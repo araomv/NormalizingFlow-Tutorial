{
  "nbformat": 4,
  "nbformat_minor": 0,
  "metadata": {
    "colab": {
      "name": "Normalizing_flow_tutorial.ipynb",
      "provenance": [],
      "collapsed_sections": [
        "j-pDp-Bto3-S",
        "iTWdiy-vIIey",
        "9Xj6FY9GI7hI",
        "-B-WaHrpKZ3b",
        "ifh10DWwlBV6",
        "5HeV_i6v1gDJ",
        "N1gocqMKzTgL",
        "527jP4_mzheb",
        "u0E9qzCyfffq",
        "AaURM_ZofaY6",
        "GivH-PrsfWjo",
        "C9InY7YrcoqS",
        "X6-VAtLYx1GA",
        "ZBF2UrK1KYq1",
        "P-UpiRCbBvyl",
        "-jANGSr0N5nd",
        "6N5tCBghTMZf",
        "fs94SVLGDNKD",
        "YXcl-QiuDTar",
        "M4FPAFVHEZ-y",
        "lOH2vON7D8dk",
        "HXLZahBNhE9V"
      ],
      "authorship_tag": "ABX9TyNupN8JKu4sTe4/IAd+ee7H",
      "include_colab_link": true
    },
    "kernelspec": {
      "name": "python3",
      "display_name": "Python 3"
    }
  },
  "cells": [
    {
      "cell_type": "markdown",
      "metadata": {
        "id": "view-in-github",
        "colab_type": "text"
      },
      "source": [
        "<a href=\"https://colab.research.google.com/github/araomv/NormalizingFlow-Tutorial/blob/master/Normalizing_flow_tutorial.ipynb\" target=\"_parent\"><img src=\"https://colab.research.google.com/assets/colab-badge.svg\" alt=\"Open In Colab\"/></a>"
      ]
    },
    {
      "cell_type": "markdown",
      "metadata": {
        "id": "2Hy4r3EHiocY",
        "colab_type": "text"
      },
      "source": [
        "**Tutorial on Normalizing Flows:**\n",
        "\n",
        "\n",
        "This a tutorial is based on [Normalizing Flows for Probabilistic Modeling and Inference](https://arxiv.org/pdf/1912.02762.pdf) (covers only few parts of the paper). \n",
        "\n",
        "We use 1D or 2D examples for visualization.\n",
        "\n",
        "***pre-requisite ***\n",
        "\n",
        "*   Should know what is a probality distribution\n",
        "*   Some basics of pytorch/tf/ keras\n",
        "*   Generating random numbers in python\n",
        "*   Should be able to unmute and attempt to answer/ask some questions   😄\n",
        "\n",
        "**disclaimer:**\n",
        "> Please be aware of bold and non-bold font for the vector/scalar.\n",
        "\n",
        "> Spelling mistakes.\n",
        "\n",
        "> Questions to audience is indicated by 🤔\n",
        "\n",
        "**Why should i understand it?**\n",
        "\n",
        "https://openai.com/blog/glow/\n",
        "\n",
        "\n",
        "\n",
        "\n",
        "\n",
        "\n",
        "\n"
      ]
    },
    {
      "cell_type": "markdown",
      "metadata": {
        "id": "j-pDp-Bto3-S",
        "colab_type": "text"
      },
      "source": [
        "# Part 1: Generative Models"
      ]
    },
    {
      "cell_type": "markdown",
      "metadata": {
        "id": "YmuzTmlrqWQL",
        "colab_type": "text"
      },
      "source": [
        "**“What I cannot create, I do not understand.”**\n",
        "\n",
        "—Richard Feynman"
      ]
    },
    {
      "cell_type": "markdown",
      "metadata": {
        "id": "iTWdiy-vIIey",
        "colab_type": "text"
      },
      "source": [
        "### Notations\n"
      ]
    },
    {
      "cell_type": "markdown",
      "metadata": {
        "id": "ekwOx_K7qxr_",
        "colab_type": "text"
      },
      "source": [
        "> We indicate the random variable of input as $\\mathcal{X}$ and output as $\\mathcal{Y}$, realizations of these two are indicated by x and y respectively.\n",
        "\n",
        "> The unlabeled samples is indicated by $\\{x_i\\}_{i=1}^M$. \n",
        "\n",
        ">$P(x)$ indicates the probability distribution of $x$ ($P_\\mathcal{X}(x)$), \n",
        "\n",
        "> Each $x_i$ is of dimension $D$ ($x_i\\in R^d$). \n",
        "\n",
        ">$x^s$ indicate subset of the vector $x$ and $x \\backslash x^s$ set complement of the $x^s$. In this note, \n",
        "\n",
        "> We consider only the iid samples. \n",
        "\n",
        "> **We deal with only continues values in this tutorial**"
      ]
    },
    {
      "cell_type": "markdown",
      "metadata": {
        "id": "9Xj6FY9GI7hI",
        "colab_type": "text"
      },
      "source": [
        "### Short introduction to GM\n",
        "\n"
      ]
    },
    {
      "cell_type": "markdown",
      "metadata": {
        "id": "88MwKkqJq1MP",
        "colab_type": "text"
      },
      "source": [
        "> Generally there are two kind of models used in ML: discriminative models and generative models. \n",
        "\n",
        "> **There are several main properties are important for a GM. Some of them are listed below.** \n",
        "\n",
        "\n",
        "1.   It should be able to model arbitrary distribution.\n",
        "2.   Given $x_{sample}$ the model should be compute $p(x_{sample})$.\n",
        "3.   scoring: Compute the marginal distribution $P(x_s)$ and/or $P(x_s|x\\backslash x_s)$.\n",
        "4.   Able generate a samples from $P(x)$.\n",
        "\n",
        "**Please note that, not all generative models (application) will satisfy (requires) all of these properties. There can be application specific goals for a generative model(ex: Natural image generation should produce image that the human visual system like).**"
      ]
    },
    {
      "cell_type": "markdown",
      "metadata": {
        "id": "AAMxZbbiJ0f2",
        "colab_type": "text"
      },
      "source": [
        "### (High level) Applications of GM\n",
        "\n",
        "\n"
      ]
    },
    {
      "cell_type": "markdown",
      "metadata": {
        "id": "8hg3oGuRq4Xv",
        "colab_type": "text"
      },
      "source": [
        "\n",
        "\n",
        "1.   Supervised/semi supervised learning\n",
        "2.   Missing value problem\n",
        "3.   Outlier detection\n",
        "4.   Generate more data for discriminative models"
      ]
    },
    {
      "cell_type": "markdown",
      "metadata": {
        "id": "-B-WaHrpKZ3b",
        "colab_type": "text"
      },
      "source": [
        "### Some examples\n",
        "\n"
      ]
    },
    {
      "cell_type": "markdown",
      "metadata": {
        "id": "2F1rLhSKq6Kv",
        "colab_type": "text"
      },
      "source": [
        "\n",
        "1.   Gaussian distribution\n",
        "2.   GMM\n",
        "3.   Probablistic graphical models\n",
        "4.   Variational Auto encoders (VAEs)       [2013]\n",
        "5.   Generative Adversial Networks (GANs).  [2014] MOST FAVORITE \n",
        "6.   Normalizing flows (FLOWs).             [2015]\n"
      ]
    },
    {
      "cell_type": "markdown",
      "metadata": {
        "id": "ifh10DWwlBV6",
        "colab_type": "text"
      },
      "source": [
        "# Part 2: Generating random numbers and visualizing their distributions.\n",
        "\n"
      ]
    },
    {
      "cell_type": "markdown",
      "metadata": {
        "id": "5HeV_i6v1gDJ",
        "colab_type": "text"
      },
      "source": [
        "### 1D\n",
        "\n",
        "> $y = \\mathcal{U}(0,1)$\n",
        "\n",
        "> $z = \\mathcal{N}(0,1)$"
      ]
    },
    {
      "cell_type": "code",
      "metadata": {
        "id": "YaLWaJqzlMQ-",
        "colab_type": "code",
        "colab": {}
      },
      "source": [
        "import numpy as np\n",
        "import matplotlib.pyplot as plt"
      ],
      "execution_count": null,
      "outputs": []
    },
    {
      "cell_type": "code",
      "metadata": {
        "id": "apFKeYYCllzL",
        "colab_type": "code",
        "colab": {
          "base_uri": "https://localhost:8080/",
          "height": 418
        },
        "outputId": "90e69383-d481-4e16-b168-62fbe77ce4d6"
      },
      "source": [
        "y=np.random.rand(1000);\n",
        "plt.hist(y,20)"
      ],
      "execution_count": null,
      "outputs": [
        {
          "output_type": "execute_result",
          "data": {
            "text/plain": [
              "(array([50., 54., 47., 42., 55., 54., 53., 41., 51., 41., 54., 52., 53.,\n",
              "        58., 56., 48., 53., 38., 45., 55.]),\n",
              " array([1.92326421e-06, 4.99817909e-02, 9.99616586e-02, 1.49941526e-01,\n",
              "        1.99921394e-01, 2.49901262e-01, 2.99881129e-01, 3.49860997e-01,\n",
              "        3.99840865e-01, 4.49820732e-01, 4.99800600e-01, 5.49780468e-01,\n",
              "        5.99760335e-01, 6.49740203e-01, 6.99720071e-01, 7.49699938e-01,\n",
              "        7.99679806e-01, 8.49659673e-01, 8.99639541e-01, 9.49619409e-01,\n",
              "        9.99599276e-01]),\n",
              " <a list of 20 Patch objects>)"
            ]
          },
          "metadata": {
            "tags": []
          },
          "execution_count": 36
        },
        {
          "output_type": "display_data",
          "data": {
            "image/png": "[encoded data removed]",
            "text/plain": [
              "<Figure size 432x288 with 1 Axes>"
            ]
          },
          "metadata": {
            "tags": [],
            "needs_background": "light"
          }
        }
      ]
    },
    {
      "cell_type": "code",
      "metadata": {
        "id": "t2zhGUpQnR_L",
        "colab_type": "code",
        "colab": {
          "base_uri": "https://localhost:8080/",
          "height": 416
        },
        "outputId": "6e62b33a-5080-4097-813f-4eec071f6581"
      },
      "source": [
        "z=np.random.randn(1000)\n",
        "plt.hist(z,20)"
      ],
      "execution_count": null,
      "outputs": [
        {
          "output_type": "execute_result",
          "data": {
            "text/plain": [
              "(array([  1.,   1.,   3.,  18.,  20.,  44.,  51., 105., 114., 149., 129.,\n",
              "        142., 100.,  59.,  27.,  21.,   8.,   5.,   2.,   1.]),\n",
              " array([-3.66769995e+00, -3.30124683e+00, -2.93479370e+00, -2.56834057e+00,\n",
              "        -2.20188745e+00, -1.83543432e+00, -1.46898119e+00, -1.10252806e+00,\n",
              "        -7.36074937e-01, -3.69621810e-01, -3.16868318e-03,  3.63284444e-01,\n",
              "         7.29737571e-01,  1.09619070e+00,  1.46264382e+00,  1.82909695e+00,\n",
              "         2.19555008e+00,  2.56200321e+00,  2.92845633e+00,  3.29490946e+00,\n",
              "         3.66136259e+00]),\n",
              " <a list of 20 Patch objects>)"
            ]
          },
          "metadata": {
            "tags": []
          },
          "execution_count": 37
        },
        {
          "output_type": "display_data",
          "data": {
            "image/png": "[encoded data removed]",
            "text/plain": [
              "<Figure size 432x288 with 1 Axes>"
            ]
          },
          "metadata": {
            "tags": [],
            "needs_background": "light"
          }
        }
      ]
    },
    {
      "cell_type": "markdown",
      "metadata": {
        "id": "N1gocqMKzTgL",
        "colab_type": "text"
      },
      "source": [
        "### 2D\n",
        "Let $\\mathbf{v}$ be a 2D vector with componenets denoted by $v_1$ and $v_2$\n",
        "\n",
        "\n",
        "\n",
        "> $y_1 = \\mathcal{U}(0,1),y_2 = \\mathcal{U}(0,1)$\n",
        "\n",
        "> $z_1 = \\mathcal{N}(0,1), z_2 = \\mathcal{N}(0,1)$\n",
        "\n",
        "> $\\mathbf{z} = \\mathcal{N}(0,\\Sigma), \\Sigma=\\left[\\begin{smallmatrix} 2&0.9\\\\ 0.9&1 \\end{smallmatrix} \\right]$"
      ]
    },
    {
      "cell_type": "code",
      "metadata": {
        "id": "zHMM07hzznpS",
        "colab_type": "code",
        "colab": {
          "base_uri": "https://localhost:8080/"
        },
        "outputId": "788a4c4d-ac10-40e7-91c6-712ddbfa7cda"
      },
      "source": [
        "y1=np.random.rand(1000,1);y2=np.random.rand(1000,1); y=np.concatenate((y1,y2),axis=1);\n",
        "plt.scatter(y1,y2)"
      ],
      "execution_count": null,
      "outputs": [
        {
          "output_type": "execute_result",
          "data": {
            "text/plain": [
              "<matplotlib.collections.PathCollection at 0x7f47e0862e48>"
            ]
          },
          "metadata": {
            "tags": []
          },
          "execution_count": 19
        },
        {
          "output_type": "display_data",
          "data": {
            "image/png": "[encoded data removed]",
            "text/plain": [
              "<Figure size 432x288 with 1 Axes>"
            ]
          },
          "metadata": {
            "tags": [],
            "needs_background": "light"
          }
        }
      ]
    },
    {
      "cell_type": "code",
      "metadata": {
        "id": "5-mqdcXm0O2d",
        "colab_type": "code",
        "colab": {
          "base_uri": "https://localhost:8080/"
        },
        "outputId": "b26a11e0-5669-4d43-e894-67f89bcbda46"
      },
      "source": [
        "z1=np.random.randn(1000,1);z2=np.random.randn(1000,1); z=np.concatenate((y1,y2),axis=1);\n",
        "plt.scatter(z[:,0],z[:,1])"
      ],
      "execution_count": null,
      "outputs": [
        {
          "output_type": "execute_result",
          "data": {
            "text/plain": [
              "<matplotlib.collections.PathCollection at 0x7f47e07f3048>"
            ]
          },
          "metadata": {
            "tags": []
          },
          "execution_count": 29
        },
        {
          "output_type": "display_data",
          "data": {
            "image/png": "[encoded data removed]",
            "text/plain": [
              "<Figure size 432x288 with 1 Axes>"
            ]
          },
          "metadata": {
            "tags": [],
            "needs_background": "light"
          }
        }
      ]
    },
    {
      "cell_type": "code",
      "metadata": {
        "id": "etqgMM1-0bKz",
        "colab_type": "code",
        "colab": {
          "base_uri": "https://localhost:8080/"
        },
        "outputId": "f297f7c1-de52-47c7-8aeb-b9fe626e355b"
      },
      "source": [
        "mu=np.zeros(2)\n",
        "Sigma=np.array([[1,0.9],[0.9,2]])\n",
        "z=np.random.multivariate_normal(mu,Sigma,1000);\n",
        "plt.scatter(z[:,0],z[:,1])"
      ],
      "execution_count": null,
      "outputs": [
        {
          "output_type": "execute_result",
          "data": {
            "text/plain": [
              "<matplotlib.collections.PathCollection at 0x7f47e05aa390>"
            ]
          },
          "metadata": {
            "tags": []
          },
          "execution_count": 33
        },
        {
          "output_type": "display_data",
          "data": {
            "image/png": "[encoded data removed]",
            "text/plain": [
              "<Figure size 432x288 with 1 Axes>"
            ]
          },
          "metadata": {
            "tags": [],
            "needs_background": "light"
          }
        }
      ]
    },
    {
      "cell_type": "markdown",
      "metadata": {
        "id": "527jP4_mzheb",
        "colab_type": "text"
      },
      "source": [
        "### Transforming the variables (1D). (what happens to their distribution)\n",
        "> $w=y+5.0$\n",
        "\n",
        "> $w=2y-2.0$\n",
        "\n"
      ]
    },
    {
      "cell_type": "code",
      "metadata": {
        "id": "Te9bwrPi143g",
        "colab_type": "code",
        "colab": {
          "base_uri": "https://localhost:8080/",
          "height": 399
        },
        "outputId": "b42bbc16-13a8-4ea4-fd61-62328ab452a3"
      },
      "source": [
        "y=np.random.rand(1000);\n",
        "plt.subplot(121);plt.hist(y,20);\n",
        "y=np.random.rand(1000);\n",
        "plt.subplot(122);plt.hist(y+5.0,20)"
      ],
      "execution_count": null,
      "outputs": [
        {
          "output_type": "execute_result",
          "data": {
            "text/plain": [
              "(array([45., 46., 54., 51., 63., 52., 49., 47., 56., 44., 49., 54., 48.,\n",
              "        47., 46., 56., 44., 41., 49., 59.]),\n",
              " array([5.00018049, 5.05016244, 5.10014438, 5.15012632, 5.20010826,\n",
              "        5.2500902 , 5.30007214, 5.35005408, 5.40003602, 5.45001796,\n",
              "        5.49999991, 5.54998185, 5.59996379, 5.64994573, 5.69992767,\n",
              "        5.74990961, 5.79989155, 5.84987349, 5.89985544, 5.94983738,\n",
              "        5.99981932]),\n",
              " <a list of 20 Patch objects>)"
            ]
          },
          "metadata": {
            "tags": []
          },
          "execution_count": 39
        },
        {
          "output_type": "display_data",
          "data": {
            "image/png": "[encoded data removed]",
            "text/plain": [
              "<Figure size 432x288 with 2 Axes>"
            ]
          },
          "metadata": {
            "tags": [],
            "needs_background": "light"
          }
        }
      ]
    },
    {
      "cell_type": "code",
      "metadata": {
        "id": "19wBaOYRt0vo",
        "colab_type": "code",
        "colab": {
          "base_uri": "https://localhost:8080/",
          "height": 416
        },
        "outputId": "cdd5dbd3-c931-4841-c682-2bdb13e4db5b"
      },
      "source": [
        "y=np.random.rand(1000);\n",
        "plt.subplot(121);plt.hist(y,20);\n",
        "y=np.random.rand(1000);\n",
        "plt.subplot(122);plt.hist(2*y-2.0,20)"
      ],
      "execution_count": null,
      "outputs": [
        {
          "output_type": "execute_result",
          "data": {
            "text/plain": [
              "(array([56., 60., 56., 62., 44., 58., 56., 50., 34., 41., 48., 39., 41.,\n",
              "        52., 66., 44., 47., 50., 54., 42.]),\n",
              " array([-1.99999699e+00, -1.90008685e+00, -1.80017670e+00, -1.70026655e+00,\n",
              "        -1.60035641e+00, -1.50044626e+00, -1.40053611e+00, -1.30062596e+00,\n",
              "        -1.20071582e+00, -1.10080567e+00, -1.00089552e+00, -9.00985375e-01,\n",
              "        -8.01075227e-01, -7.01165080e-01, -6.01254933e-01, -5.01344785e-01,\n",
              "        -4.01434638e-01, -3.01524491e-01, -2.01614344e-01, -1.01704196e-01,\n",
              "        -1.79404914e-03]),\n",
              " <a list of 20 Patch objects>)"
            ]
          },
          "metadata": {
            "tags": []
          },
          "execution_count": 41
        },
        {
          "output_type": "display_data",
          "data": {
            "image/png": "[encoded data removed]",
            "text/plain": [
              "<Figure size 432x288 with 2 Axes>"
            ]
          },
          "metadata": {
            "tags": [],
            "needs_background": "light"
          }
        }
      ]
    },
    {
      "cell_type": "markdown",
      "metadata": {
        "id": "CMd5UoDjuCL3",
        "colab_type": "text"
      },
      "source": [
        "### Transforming the variables (2D). (what happens to their distribution)\n",
        "> $\\mathbf{w}=\\mathbf{z}*2$\n",
        "\n",
        "> $\\mathbf{w}=G\\mathbf{z}$\n",
        "\n",
        ">$\\mathbf{w}=\\sigma{(a_1 z+b_1)}+\\sigma{(a_2 z+b_2})$"
      ]
    },
    {
      "cell_type": "code",
      "metadata": {
        "id": "SMUT-1Douc3n",
        "colab_type": "code",
        "colab": {
          "base_uri": "https://localhost:8080/"
        },
        "outputId": "ac8718c9-4910-474e-aed1-b94cde85b933"
      },
      "source": [
        "z=np.random.multivariate_normal(mu,Sigma,1000);\n",
        "plt.subplot(121);plt.scatter(z[:,0],z[:,1])\n",
        "z=np.random.multivariate_normal(mu,Sigma,1000);\n",
        "r=2*z\n",
        "plt.subplot(122);plt.scatter(r[:,0],r[:,1])"
      ],
      "execution_count": null,
      "outputs": [
        {
          "output_type": "execute_result",
          "data": {
            "text/plain": [
              "<matplotlib.collections.PathCollection at 0x7f47df5e3da0>"
            ]
          },
          "metadata": {
            "tags": []
          },
          "execution_count": 82
        },
        {
          "output_type": "display_data",
          "data": {
            "image/png": "[encoded data removed]",
            "text/plain": [
              "<Figure size 432x288 with 2 Axes>"
            ]
          },
          "metadata": {
            "tags": [],
            "needs_background": "light"
          }
        }
      ]
    },
    {
      "cell_type": "code",
      "metadata": {
        "id": "pMyOKp8uvnH_",
        "colab_type": "code",
        "colab": {
          "base_uri": "https://localhost:8080/"
        },
        "outputId": "6522f46f-2107-43cb-cee7-7def8b33d252"
      },
      "source": [
        "Sigma=np.array([[1,0.9],[0.9,2]])\n",
        "z=np.random.multivariate_normal(mu,Sigma,1000);\n",
        "G=np.array([[1,-0.8],[-0.8,1]])\n",
        "r=np.matmul(G,z.transpose())\n",
        "plt.subplot(121);plt.scatter(z[:,0],z[:,1])\n",
        "z=np.random.multivariate_normal(mu,Sigma,1000);\n",
        "r=np.matmul(G,z.transpose())\n",
        "plt.subplot(122);plt.scatter(r[0,:],r[1,:])"
      ],
      "execution_count": null,
      "outputs": [
        {
          "output_type": "execute_result",
          "data": {
            "text/plain": [
              "<matplotlib.collections.PathCollection at 0x7f47de9b9208>"
            ]
          },
          "metadata": {
            "tags": []
          },
          "execution_count": 87
        },
        {
          "output_type": "display_data",
          "data": {
            "image/png": "[encoded data removed]",
            "text/plain": [
              "<Figure size 432x288 with 2 Axes>"
            ]
          },
          "metadata": {
            "tags": [],
            "needs_background": "light"
          }
        }
      ]
    },
    {
      "cell_type": "code",
      "metadata": {
        "id": "7-8NbUciwU4z",
        "colab_type": "code",
        "colab": {
          "base_uri": "https://localhost:8080/"
        },
        "outputId": "d6edd83d-ec7c-408d-d13d-741716ee5296"
      },
      "source": [
        "def sigmoid(x,a,b):\n",
        "  return 1 / (1 + np.exp(-a*x+b))\n",
        "Sigma=np.array([[1,0.0],[0.0,1]])\n",
        "z=np.random.multivariate_normal(mu,Sigma,1000);\n",
        "w=(sigmoid(z,2,-1)+sigmoid(z,3,1))/2;\n",
        "plt.subplot(121);plt.scatter(z[:,0],z[:,1])\n",
        "plt.subplot(122);plt.scatter(w[:,0],w[:,1])"
      ],
      "execution_count": null,
      "outputs": [
        {
          "output_type": "execute_result",
          "data": {
            "text/plain": [
              "<matplotlib.collections.PathCollection at 0x7f47df3f8ba8>"
            ]
          },
          "metadata": {
            "tags": []
          },
          "execution_count": 72
        },
        {
          "output_type": "display_data",
          "data": {
            "image/png": "[encoded data removed]",
            "text/plain": [
              "<Figure size 432x288 with 2 Axes>"
            ]
          },
          "metadata": {
            "tags": [],
            "needs_background": "light"
          }
        }
      ]
    },
    {
      "cell_type": "code",
      "metadata": {
        "id": "NaCr3ewIxl70",
        "colab_type": "code",
        "colab": {
          "base_uri": "https://localhost:8080/"
        },
        "outputId": "5acc0152-ef41-470a-93fc-802fe0bdedaa"
      },
      "source": [
        "def sigmoid(x,a,b):\n",
        "  return 1 / (1 + np.exp(-a*x+b))\n",
        "\n",
        "Sigma=np.array([[1,0.0],[0.0,1]])\n",
        "z=np.random.multivariate_normal(mu,Sigma,1000);\n",
        "w=(sigmoid(z,20,-15)+sigmoid(z,20,10))/2;\n",
        "plt.subplot(121);plt.scatter(z[:,0],z[:,1])\n",
        "plt.subplot(122);plt.scatter(w[:,0],w[:,1])"
      ],
      "execution_count": null,
      "outputs": [
        {
          "output_type": "execute_result",
          "data": {
            "text/plain": [
              "<matplotlib.collections.PathCollection at 0x7f47dedbb7b8>"
            ]
          },
          "metadata": {
            "tags": []
          },
          "execution_count": 81
        },
        {
          "output_type": "display_data",
          "data": {
            "image/png": "[encoded data removed]",
            "text/plain": [
              "<Figure size 432x288 with 2 Axes>"
            ]
          },
          "metadata": {
            "tags": [],
            "needs_background": "light"
          }
        }
      ]
    },
    {
      "cell_type": "markdown",
      "metadata": {
        "id": "KqHQBQKA6BIp",
        "colab_type": "text"
      },
      "source": [
        "# Part 3: Basics of Normalizing flows"
      ]
    },
    {
      "cell_type": "markdown",
      "metadata": {
        "id": "u0E9qzCyfffq",
        "colab_type": "text"
      },
      "source": [
        "## Definitions and notations"
      ]
    },
    {
      "cell_type": "markdown",
      "metadata": {
        "id": "HTQvhuav1dHA",
        "colab_type": "text"
      },
      "source": [
        "\n",
        "> $\\mathbf{x}=T^{\\phi}(\\mathbf{u})$, \n",
        "\n",
        "> where $u\\sim p^{\\psi}_u(\\mathbf{u})$ --> base distribution\n",
        "\n",
        "> **If T is invertible** --> $T^{-1}$ is exits --> its map\n",
        "\n",
        "> $u=T^{-1}(x)$\n",
        "\n",
        ">$p_x(\\mathbf{x})=p_u(\\mathbf{u})|det(J_T(\\mathbf{x}))|$, where $u=T^{-1}(x)$\n",
        "> proof can be found in \"[Functions of random variables](https://en.wikipedia.org/wiki/Random_variable#:~:text=Random%20variables%20can%20be%20discrete,an%20interval%20or%20collection%20of)\".\n",
        "\n",
        "> $\\boxed{p_x(\\mathbf{x})=p_u(T^{-1}(\\mathbf{x}))|det(J_T(\\mathbf{x}))|}$\n",
        "\n",
        "> $\\{J_T(\\mathbf{x})\\}_{ij}=\\frac{\\partial T_i}{\\partial x_j}$\n",
        "\n",
        "> Deteminant quantifes the relative change of volume of a small neighbourhood around $\\mathbf{u}$ due to T.\n",
        "\n",
        "> Composition $(T_1 \\odot T_2)$ can be use build vary complex invertible functions. (multi-layer of the invertible layer).  \n",
        "\n",
        "> Deteminants also are product of the two componenets. $det(J_{(T_1 \\odot T_2)}(\\mathbf{u}))=det(J_{T_1}(u)). det(J_{T_2}(T_1(u))$\n",
        "\n",
        ">$T=T_K \\odot\\dots\\odot T_1$, where $T_k$ transforms from $z_{k-1}$ to $z_k$\n",
        "\n",
        "> $z_0=u$ and $z_K=x$\n",
        "\n",
        "<font color='red'>**Main features [2nd and 3rd main property of the generative model]**</font>\n",
        "\n",
        "1.  Sampling from the model\n",
        "2.  Evaluating the model's density\n",
        "\n",
        "\n",
        "\n"
      ]
    },
    {
      "cell_type": "markdown",
      "metadata": {
        "id": "AaURM_ZofaY6",
        "colab_type": "text"
      },
      "source": [
        "## Short Proof of Expressive Power [1st main propery]"
      ]
    },
    {
      "cell_type": "markdown",
      "metadata": {
        "id": "_fB2PisL_p25",
        "colab_type": "text"
      },
      "source": [
        "\n",
        "> Suppose $p(\\mathbf{x})>0$\n",
        "\n",
        ">$p_x(x)=\\prod_{i=1}^D p_x(x_i|x_{<i})$\n",
        "\n",
        ">Lets define a **vector valued function** $F: x \\rightarrow z $\n",
        "\n",
        "> Now consider the i-the component of the function to be $F_i(x_i|x_{<i})= \\int^{x_{i}}_{-\\infty} p_x(x_{i}^{'}|x_{<i}) dx_{i}^{'}=Pr(x_{i}^{'}<x_i|x_{<i})$\n",
        "\n",
        "> To find the distribution of $z$ under the mapping $F$, we need to find jocobian of the mapping (function is invertible.. **WHY?**)\n",
        "\n",
        ">Jocobian is a lower triangualr matrix because $J_{ij}=\\frac{\\partial F_i}{\\partial x_j}=0$ when $i<j$. \n",
        "\n",
        "> determinant is product of diagonal entries $det(J)=\\prod_i \\frac{\\partial F_i}{\\partial x_i}=\\prod_i p_x(x_i|x_{<i})=p(x)$\n",
        "\n",
        "> $p_z(z)=p_x(x) |det(J)|^{-1}=1$. **Think about what is the range $F$ or possible values for $z$?**  🤔\n",
        "\n",
        "><font color='red'> ***What does this tell us about modeling any distribution?***  🤔\n",
        "\n",
        "> Does this hold if the $p_u(u)=\\mathcal{N}(0,I)$?</font>  🤔\n",
        "\n",
        "\n"
      ]
    },
    {
      "cell_type": "markdown",
      "metadata": {
        "id": "GivH-PrsfWjo",
        "colab_type": "text"
      },
      "source": [
        "## Model training:"
      ]
    },
    {
      "cell_type": "markdown",
      "metadata": {
        "id": "LfGzsHlQBbtO",
        "colab_type": "text"
      },
      "source": [
        "\n",
        "> $\\mathbf{x}=T^{\\phi}(\\mathbf{u})$, \n",
        "\n",
        "> where $u\\sim p^{\\psi}_u(\\mathbf{u})$ --> base distribution\n",
        "\n",
        "> **If T should be invertible** \n",
        "\n",
        "> Use a very simple distribution such as normal distribution for $u$ and model the data distribution. \n",
        "\n",
        ">$p_x(\\mathbf{x})=p_u(\\mathbf{u})|det(J_{T^{-1}}(\\mathbf{x}))|$\n",
        "\n",
        "> **GOAL** is to find the parameters $\\theta=\\{\\phi,\\psi\\}$.\n",
        "\n",
        "> Let the underlying distribution be $p^g(x)$ and the $p_x(x;\\theta)$ be the distribution modeled by the flows.\n",
        "\n",
        "> Two popular way to train the model is KL divergence (forward and reverse). \n",
        "\n",
        "\n",
        "><font color='red'>**SPOILER: Both are equivalent and applicable in different scenarios. **</font>\n",
        "\n",
        "\n",
        "> $KL^f(p||q)=E_p[\\;log(\\frac{p}{q})]$\n",
        "\n",
        "1.   Forward KL\n",
        "      \n",
        "      >$D^f_{KL}[p^g(x) || p_x(x;\\theta)]=-E_{p^g(x)}[log(p_{x}(x);\\theta)]+const=-E_{p^g(x)}[\\log(p_u(T^{-1}(x)))+\\log(|det(J_{T^{-1}}(x)))]$\n",
        "\n",
        "      > expectation is approximated by emperical sumation given the samples from the $p^g(x)$.\n",
        "\n",
        "      > If $u \\sim \\mathcal{N}(0,I)$, then $log(p_u(T^{-1}(x)))=-T^{-1}(x)^t T^{-1}(x)$\n",
        "\n",
        "      > Gradient with respect to $\\theta$ can be computed.\n",
        "2.   Reverse KL\n",
        "\n",
        "    > $D^r_{KL}[p_x(x;\\theta) || p^g(x)]= E_{p_u}[log(p_u(u))-log(|det(J_T(u))|)-log(p_g(T(u)))]$\n",
        "\n",
        "    > No need samples from the underlying process, should be able to evaluate the probablisty given data point $p_g(r)$ (upto a constant).\n",
        "\n",
        "\n"
      ]
    },
    {
      "cell_type": "markdown",
      "metadata": {
        "id": "C9InY7YrcoqS",
        "colab_type": "text"
      },
      "source": [
        "### Model inference: \n",
        "1. How do we sample from the distribution?\n",
        "2. How do evaluate the likelyhood of the sample $x_{sample}$?"
      ]
    },
    {
      "cell_type": "markdown",
      "metadata": {
        "id": "uI6BXCdLx8gu",
        "colab_type": "text"
      },
      "source": [
        "##  General Implementation structure of Normalizing flow\n",
        "\n"
      ]
    },
    {
      "cell_type": "markdown",
      "metadata": {
        "id": "X6-VAtLYx1GA",
        "colab_type": "text"
      },
      "source": [
        "###  Gaussian (mixture) distribution Demo: \n",
        "> $p(x)=\\mathcal{N}(5.0,2.0)$\n",
        "\n",
        "> $p(x)=0.6\\mathcal{N}(1.0,0.6)+0.4 \\mathcal{N}(4,1.3)$"
      ]
    },
    {
      "cell_type": "code",
      "metadata": {
        "id": "TwFMZPfO_plv",
        "colab_type": "code",
        "colab": {
          "base_uri": "https://localhost:8080/",
          "height": 265
        },
        "outputId": "42080ff8-1e0e-438c-b27f-9e309405299a"
      },
      "source": [
        "import numpy as np\n",
        "import matplotlib.pyplot as plt\n",
        "\n",
        "def GetSampleDataG(nsamp=1):\n",
        "    y=2.0*np.random.randn(nsamp)+5.0;\n",
        "    return y\n",
        "\n",
        "def GetSampleDataGMM(nsamp=1):\n",
        "    ymix1=np.random.randn(nsamp)*0.6+1;\n",
        "    ymix2=np.random.randn(nsamp)*0.4+7;\n",
        "    alpha=np.random.binomial(1,0.4,nsamp);\n",
        "    y=(alpha==0)*ymix1+(alpha==1)*ymix2;\n",
        "    return y\n",
        "\n",
        "y=GetSampleDataG(nsamp=10000)\n",
        "ymm=GetSampleDataGMM(nsamp=10000)\n",
        "plt.subplot(121);plt.hist(y,80);\n",
        "plt.subplot(122);plt.hist(ymm,80);"
      ],
      "execution_count": 2,
      "outputs": [
        {
          "output_type": "display_data",
          "data": {
            "image/png": "[encoded data removed]",
            "text/plain": [
              "<Figure size 432x288 with 2 Axes>"
            ]
          },
          "metadata": {
            "tags": [],
            "needs_background": "light"
          }
        }
      ]
    },
    {
      "cell_type": "markdown",
      "metadata": {
        "id": "X7PitRhjRWJ4",
        "colab_type": "text"
      },
      "source": [
        "**Lets define very simple invertible function.**\n",
        "\n",
        "$u=T^{-1}(x)=cx+b$    and    **($c\\ne 0$ WHY?)**\n",
        "\n",
        "$u=e^a x+b$,  where $a\\in R$\n",
        "\n",
        "$x=T(u)=\\frac{u}{e^a}-\\frac{b}{e^a}$\n",
        "\n",
        "$p_u(u)=\\mathcal{N}(0,1)=C e^{-0.5u^2}$\n",
        "\n",
        "$J_{T^{-1}}(x)=a$\n",
        "\n",
        "$\\mathcal{D}=-E_{p^g(x)}[\\log(p_u(T^{-1}(x)))+\\log(|det(J_{T^{-1}}(x))|)]$\n",
        "\n",
        "$=-\\sum_{k=1}^N [-0.5u_k^2+\\log(|a|)]$\n",
        "\n",
        "$=\\sum_{k=1}^N [0.5(ax_k+b)^2-\\log(|a|)]$"
      ]
    },
    {
      "cell_type": "code",
      "metadata": {
        "id": "9f1_B38ruoBF",
        "colab_type": "code",
        "colab": {
          "base_uri": "https://localhost:8080/",
          "height": 420
        },
        "outputId": "2790da8f-a22b-462f-b982-3a0a199f0a7c"
      },
      "source": [
        "######### Import the packages   ######\n",
        "import torch\n",
        "import torch.nn as nn\n",
        "import torch.optim as optim\n",
        "\n",
        "from tqdm import tqdm\n",
        "torch.manual_seed(1337)\n",
        "np.random.seed(3459)\n",
        "torch.autograd.set_detect_anomaly(True)\n",
        "\n",
        "######### Define your Data Sampling function   ######\n",
        "#GetSample=GetSampleDataGMM;\n",
        "bsz=100;\n",
        "GetSample=GetSampleDataG;\n",
        "################ Simple invertible affine transform layer  ############\n",
        "class AffineTransform(nn.Module):\n",
        "    def __init__(self):\n",
        "        super(AffineTransform, self).__init__()\n",
        "        self.a = torch.nn.Parameter(data=torch.Tensor(1, 1), requires_grad=True)\n",
        "        self.b = torch.nn.Parameter(data=torch.Tensor(1, 1), requires_grad=True)\n",
        "        self.a.data.uniform_(-1, 1)\n",
        "        self.b.data.uniform_(-1, 1)\n",
        "    \n",
        "    def forward(self, xx):\n",
        "        out=torch.exp(self.a)*xx+self.b;  #contraining the coef to be non negetive by using exp()\n",
        "        log_det=-xx.shape[0]*torch.log(torch.exp(self.a))\n",
        "        prior=0.5*torch.sum(out*out)\n",
        "        return out,prior,log_det  # return output, log determinant and the llk wrt to the prior.\n",
        "\n",
        "    def sample(self, nsamp):\n",
        "        xx=torch.tensor(np.random.randn(nsamp))\n",
        "        return (xx-self.b)/torch.exp(self.a)\n",
        "\n",
        "    def GetLLK(self, xx):\n",
        "        out=torch.exp(self.a)*xx+self.b;  #contraining the coef to be non negetive by using exp()\n",
        "        log_det=-xx.shape[0]*torch.log(torch.exp(self.a))\n",
        "        prior=0.5*torch.sum(out*out,dim=0)\n",
        "        return prior\n",
        "\n",
        "################ Model Definition  ############\n",
        "num_epoch = 200;\n",
        "model = AffineTransform();\n",
        "params = list(model.parameters())\n",
        "optimizer = optim.Adam(model.parameters(), lr=1e-1)\n",
        "print('------params before training--------')\n",
        "print(params)\n",
        "\n",
        "################ Model Training  ############\n",
        "model.train()\n",
        "loss_np=np.zeros(num_epoch);\n",
        "for k,kk in enumerate(range(num_epoch)):\n",
        "    x = GetSample(bsz)\n",
        "    x=torch.tensor(x.astype('float32'))\n",
        "    zs, prior_logprob, log_det = model(x)\n",
        "    logprob = prior_logprob + log_det\n",
        "    loss = torch.sum(logprob) # NLL\n",
        "    loss_np[k]=loss.item()\n",
        "    model.zero_grad()\n",
        "    loss.backward()\n",
        "    optimizer.step()\n",
        "\n",
        "################ Ploting results ############\n",
        "params = list(model.parameters())\n",
        "print('------params after training--------')\n",
        "print(params)\n",
        "\n",
        "plt.subplot(321)\n",
        "plt.plot(loss_np)\n",
        "plt.title('objective vs epochs')\n",
        "\n",
        "xnp=GetSample(10000);\n",
        "x=torch.tensor(xnp.astype('float32'))\n",
        "model.eval()\n",
        "y=model(x);\n",
        "z=y[0].detach().numpy()\n",
        "\n",
        "plt.subplot(322)\n",
        "plt.hist(xnp,80);\n",
        "plt.title('distribution of x')\n",
        "\n",
        "plt.subplot(323)\n",
        "\n",
        "plt.hist(z[0,:],80);\n",
        "plt.title('distribution of u')\n",
        "\n",
        "\n",
        "plt.subplot(325)\n",
        "\n",
        "plt.hist(np.random.randn(10000),80);\n",
        "plt.title('distribution of N(0,1)')\n",
        "\n",
        "plt.subplot(324)\n",
        "ysamp=model.sample(10000).detach().numpy();\n",
        "plt.hist(ysamp[0,:],80);\n",
        "plt.title('distribution of T(u)')\n",
        "\n",
        "plt.subplot(326)\n",
        "maxv=np.max(xnp)\n",
        "minv=np.min(xnp)\n",
        "xnp=np.arange(minv,maxv,0.01)\n",
        "x=torch.tensor(xnp.astype('float32'))\n",
        "y=model.GetLLK(x).detach().numpy();\n",
        "z=np.exp(-y)\n",
        "plt.plot(xnp,z);\n",
        "plt.title('distribution of C x p(x)')\n",
        "\n",
        "plt.subplots_adjust(hspace=0.6)"
      ],
      "execution_count": 19,
      "outputs": [
        {
          "output_type": "stream",
          "text": [
            "------params before training--------\n",
            "[Parameter containing:\n",
            "tensor([[-0.8434]], requires_grad=True), Parameter containing:\n",
            "tensor([[-0.0088]], requires_grad=True)]\n",
            "------params after training--------\n",
            "[Parameter containing:\n",
            "tensor([[-0.7033]], requires_grad=True), Parameter containing:\n",
            "tensor([[-2.4982]], requires_grad=True)]\n"
          ],
          "name": "stdout"
        },
        {
          "output_type": "display_data",
          "data": {
            "image/png": "[encoded data removed]",
            "text/plain": [
              "<Figure size 432x288 with 6 Axes>"
            ]
          },
          "metadata": {
            "tags": [],
            "needs_background": "light"
          }
        }
      ]
    },
    {
      "cell_type": "code",
      "metadata": {
        "id": "Rz88JtZrTCjX",
        "colab_type": "code",
        "colab": {
          "base_uri": "https://localhost:8080/",
          "height": 35
        },
        "outputId": "ab86f3f1-e719-411a-9cdc-011501593663"
      },
      "source": [
        "c,d=np.exp(list(model.parameters())[0].detach().numpy()),list(model.parameters())[1].detach().numpy()\n",
        "a,b=1/c,-d/c\n",
        "print([a,b])"
      ],
      "execution_count": null,
      "outputs": [
        {
          "output_type": "stream",
          "text": [
            "[array([[2.0204225]], dtype=float32), array([[5.0473995]], dtype=float32)]\n"
          ],
          "name": "stdout"
        }
      ]
    },
    {
      "cell_type": "markdown",
      "metadata": {
        "id": "kJ2lIAnHCzJT",
        "colab_type": "text"
      },
      "source": [
        "### Non-linear mapping\n",
        "\n",
        "**Its clear that the GMM case the affine transform is not sufficient..!**\n",
        "\n",
        "what if the mapping is\n",
        "\n",
        "$u=T^{-1}(x)=\\sum_{m=1}^K w_k \\sigma(v_k x+b)$  and $v_k,w_k>0$\n",
        "\n",
        "$J_{T^{-1}}(x)=\\sum_{m=1}^K w_k v_k \\sigma(v_k x+b_k)(1-\\sigma(v_k x+b_k))$\n",
        "\n",
        "\n"
      ]
    },
    {
      "cell_type": "code",
      "metadata": {
        "id": "0T4D2UBRCnGf",
        "colab_type": "code",
        "colab": {
          "base_uri": "https://localhost:8080/",
          "height": 403
        },
        "outputId": "5b070627-8817-4eb6-c80d-b83ca01bf693"
      },
      "source": [
        "import torch\n",
        "import torch.nn as nn\n",
        "import torch.optim as optim\n",
        "from tqdm import tqdm\n",
        "\n",
        "torch.manual_seed(1337)\n",
        "np.random.seed(3459)\n",
        "torch.autograd.set_detect_anomaly(True)\n",
        "bsz=100;\n",
        "GetSample=GetSampleDataGMM;\n",
        "################ Lets define layer for liner combination of sigmoid #########\n",
        "class CombSigmoid(nn.Module):\n",
        "    def __init__(self,nunits=4):\n",
        "        super(CombSigmoid, self).__init__()\n",
        "        self.V = torch.nn.Parameter(data=torch.Tensor(nunits, 1), requires_grad=True)\n",
        "        self.W = torch.nn.Parameter(data=torch.Tensor(nunits, 1), requires_grad=True)\n",
        "        self.b1 = torch.nn.Parameter(data=torch.Tensor(nunits, 1), requires_grad=True)\n",
        "        self.b2 = torch.nn.Parameter(data=torch.Tensor(1, 1), requires_grad=True)\n",
        "        self.V.data=torch.from_numpy(np.array(np.log(2)*np.ones((2,1),dtype='float32')));\n",
        "        self.W.data=torch.from_numpy(np.array(np.log(0.5)*np.ones((2,1),dtype='float32')));\n",
        "        self.b1.data=torch.from_numpy(np.array([15,2]).astype('float32')[:,np.newaxis]);\n",
        "        self.b2.data=torch.from_numpy(np.array(np.zeros((1,1),dtype='float32')));\n",
        "\n",
        "    def forward(self, x):\n",
        "        v=torch.exp(self.V);\n",
        "        w=torch.exp(self.W);\n",
        "        i1=torch.sigmoid(-v*x+self.b1);\n",
        "        out=torch.mm(w.transpose(1,0),i1)+self.b2;\n",
        "        log_det=-x.shape[0]*torch.log(torch.sum(i1*(1.0-i1)*v*w))\n",
        "        #log_det=torch.sum(i1*(1.0-i1)*v*w);\n",
        "        prior=0.5*torch.sum(out*out)\n",
        "        return out,prior,log_det\n",
        "\n",
        "   # def sample(self, nsamp):\n",
        "        #bijection search\n",
        "        #NOT IMPLEMENTED NOW\n",
        "\n",
        "    def GetLLK(self, x):\n",
        "        v=torch.exp(self.V);\n",
        "        w=torch.exp(self.W);\n",
        "        i1=torch.sigmoid(-v*x+self.b1);\n",
        "        out=torch.mm(w.transpose(1,0),i1)+self.b2\n",
        "        prior=0.5*torch.sum(out*out,dim=0)\n",
        "        return out\n",
        "\n",
        "num_epoch = 200;\n",
        "################ Model Definition  ############\n",
        "model = CombSigmoid(2);\n",
        "params = list(model.parameters())\n",
        "optimizer = optim.Adam(model.parameters(), lr=1e-1)\n",
        "\n",
        "################ Model Training  ############\n",
        "\n",
        "\n",
        "model.train()\n",
        "loss_np=np.zeros(num_epoch);\n",
        "for k,kk in enumerate(range(num_epoch)):\n",
        "    x = GetSample(bsz)\n",
        "    x=torch.tensor(x.astype('float32'))\n",
        "    zs, prior_logprob, log_det = model(x)\n",
        "    logprob = prior_logprob + log_det\n",
        "    loss = torch.sum(logprob) # NLL\n",
        "    loss_np[k]=loss.item()\n",
        "    model.zero_grad()\n",
        "    loss.backward()\n",
        "    optimizer.step()\n",
        "\n",
        "for ix,(name,p) in enumerate(model.named_parameters()):\n",
        "  if(ix>1):\n",
        "    print(name,p.data)\n",
        "  else:\n",
        "    print(name,np.exp(p.data.detach().numpy()))\n",
        "\n",
        "################ Ploting results ############\n",
        "plt.subplot(321)\n",
        "plt.plot(loss_np)\n",
        "plt.title('objective vs epochs')\n",
        "\n",
        "xnp=GetSample(10000);\n",
        "x=torch.tensor(xnp.astype('float32'))\n",
        "model.eval()\n",
        "y=model(x);\n",
        "z=y[0].detach().numpy()\n",
        "\n",
        "plt.subplot(322)\n",
        "plt.hist(xnp,80);\n",
        "plt.title('distribution of x')\n",
        "\n",
        "plt.subplot(323)\n",
        "plt.hist(z[0,:],80);\n",
        "plt.title('distribution of u')\n",
        "\n",
        "plt.subplot(325)\n",
        "plt.hist(np.random.randn(10000),80);\n",
        "plt.title('distribution of N(0,1)')\n",
        "\n",
        "plt.subplot(324)\n",
        "#ysamp=model.sample(10000).detach().numpy();\n",
        "#plt.hist(ysamp[0,:],80);\n",
        "#plt.title('distribution of T(u)')\n",
        "\n",
        "plt.subplot(326)\n",
        "maxv=np.max(xnp)\n",
        "minv=np.min(xnp)\n",
        "xnp=np.arange(minv,maxv,0.01)\n",
        "x=torch.tensor(xnp.astype('float32'))\n",
        "y=model.GetLLK(x).detach().numpy();\n",
        "z=np.exp(-y[0,:])\n",
        "plt.plot(xnp,z);\n",
        "plt.title('distribution of C x p(x)')\n",
        "plt.subplots_adjust(hspace=0.6)"
      ],
      "execution_count": 83,
      "outputs": [
        {
          "output_type": "stream",
          "text": [
            "V [[2.4360259]\n",
            " [5.8589168]]\n",
            "W [[3.411924 ]\n",
            " [3.1231105]]\n",
            "b1 tensor([[18.3868],\n",
            "        [ 2.2012]])\n",
            "b2 tensor([[-3.5550]])\n"
          ],
          "name": "stdout"
        },
        {
          "output_type": "display_data",
          "data": {
            "image/png": "[encoded data removed]",
            "text/plain": [
              "<Figure size 432x288 with 6 Axes>"
            ]
          },
          "metadata": {
            "tags": [],
            "needs_background": "light"
          }
        }
      ]
    },
    {
      "cell_type": "code",
      "metadata": {
        "id": "ZM6mfjHSG1Ym",
        "colab_type": "code",
        "colab": {
          "base_uri": "https://localhost:8080/",
          "height": 35
        },
        "outputId": "3e4d4d57-67a9-40ea-b5a2-16255d3fb22f"
      },
      "source": [
        "xnp=GetSample(10000);\n",
        "x=torch.tensor(xnp.astype('float32'))\n",
        "model.eval()\n",
        "y=model(x);\n",
        "y[2].detach().numpy()"
      ],
      "execution_count": 81,
      "outputs": [
        {
          "output_type": "execute_result",
          "data": {
            "text/plain": [
              "array(-75539.78, dtype=float32)"
            ]
          },
          "metadata": {
            "tags": []
          },
          "execution_count": 81
        }
      ]
    },
    {
      "cell_type": "markdown",
      "metadata": {
        "id": "ZBF2UrK1KYq1",
        "colab_type": "text"
      },
      "source": [
        "### Challenges in real data\n",
        "\n"
      ]
    },
    {
      "cell_type": "markdown",
      "metadata": {
        "id": "42JvturHMuDW",
        "colab_type": "text"
      },
      "source": [
        "\n",
        "***The idea of the flows is simple. But the naive ideas can be computationally expensive. Most litrature deals with computing the various qualtities efficiently, so that it can be scaled to real dataset. ***\n",
        "\n",
        "\n",
        "1. The invertible function should be easy to compute (including the inverse)\n",
        "    > What is the right way to come with the invertible functions and that should have universal approximation properties. \n",
        "\n",
        "    > Still there is no formal way of designing a invertible function. Onlyway is to form a simple invertible functions and compose them to get more complex functions. \n",
        "\n",
        "2. Jacobian must be easy to compute.\n",
        "    >  For example lets consider a task of modeling 10s audio at 44000 samples per second. D=440000 ==> J has ~20B values ==> computing the det is $O(D^3)$=8.5184e+16 operations...! \n",
        "\n",
        "    >  The invertible function is designed such a way that the Jacobia matrix is diagonal and hence determinant computation complexity is O(D).  ==> Tractable.."
      ]
    },
    {
      "cell_type": "markdown",
      "metadata": {
        "id": "P-UpiRCbBvyl",
        "colab_type": "text"
      },
      "source": [
        "# Part 4: Types of flows"
      ]
    },
    {
      "cell_type": "markdown",
      "metadata": {
        "id": "Ljga4NO6354a",
        "colab_type": "text"
      },
      "source": [
        "\n",
        "\n",
        "1.   Autoregressive flows\n",
        "2.   Linear fows\n",
        "3.   Residual flows\n",
        "4.   Continues flows\n",
        "\n",
        "\n",
        "Here we briefly review the Autoregressive flows.\n"
      ]
    },
    {
      "cell_type": "markdown",
      "metadata": {
        "id": "xQoRpBv7DD-m",
        "colab_type": "text"
      },
      "source": [
        "## Autoregressive Flows"
      ]
    },
    {
      "cell_type": "markdown",
      "metadata": {
        "id": "-jANGSr0N5nd",
        "colab_type": "text"
      },
      "source": [
        "### Basics and notations"
      ]
    },
    {
      "cell_type": "markdown",
      "metadata": {
        "id": "aHFUIhYkN-JM",
        "colab_type": "text"
      },
      "source": [
        "> From the proof of expresivity we saw that any distribution can be mapped to uniform distribution using the function $F$ ==> $z_i=F_i(x_i|x_{<i})= \\int^{x_{i}}_{-\\infty} p_x(x_{i}^{'}|x_{<i}) dx_{i}^{'}=Pr(x_{i}^{'}<x_i|x_{<i})$\n",
        "\n",
        ">$F$ is a vector values function with vector arguments. \n",
        "\n",
        ">$F_i$ can be thought as 1D function ($x_i$) with parameters $x_{<i}$. **(Note that $F_i$ is a CDF and hence should be monotonically increasing wrt $x_i$)**.\n",
        "\n",
        "\n",
        "\n",
        "\n",
        "\n"
      ]
    },
    {
      "cell_type": "markdown",
      "metadata": {
        "id": "6N5tCBghTMZf",
        "colab_type": "text"
      },
      "source": [
        "### Auto regressive flow construction\n"
      ]
    },
    {
      "cell_type": "markdown",
      "metadata": {
        "id": "n5-jkS2Scrm5",
        "colab_type": "text"
      },
      "source": [
        "> $z_{i}^{'}=\\tau(z_i;h_i)$ and $h_i=c_i(z_{<i})$   (transformer and conditioner pair), $i$ varies from 1 to $D$. \n",
        "\n",
        "> $\\tau$ is 1D function with parameters $h_i$\n",
        "\n",
        "> $c_i$ has the parameters to be trained.  \n",
        "\n",
        "> **Constraints:** $\\tau$  should be strictly monotonic, conditioner need not be invertible.\n",
        "\n",
        "> Easy to verify the invertiblity:\n",
        "      > $z_i=\\tau^{-1}(z_i^{'};h_i)$ where $h_i=c_i(z_{<i})$\n",
        "\n",
        "> Pictorial representation:\n",
        "\n",
        "\n",
        "![AF_basic.png](data:image/png;base64,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)\n",
        "\n",
        "\n",
        "> **This solves the construction of invertible function..!**\n",
        "\n",
        "> *What about the jacobian?*   $\\frac{\\partial F_i}{\\partial x_j}=\\frac{\\partial z^{'}_{i}}{\\partial z_j}$  🤔\n",
        "\n",
        "> What about approximation properties? 🤔"
      ]
    },
    {
      "cell_type": "markdown",
      "metadata": {
        "id": "fs94SVLGDNKD",
        "colab_type": "text"
      },
      "source": [
        "### Implementing the transformer\n",
        "\n",
        "\n",
        "\n"
      ]
    },
    {
      "cell_type": "markdown",
      "metadata": {
        "id": "tbTJohBTclnZ",
        "colab_type": "text"
      },
      "source": [
        "\n",
        "1.   Affine autoregressive flows:   \n",
        "\n",
        "      >$\\tau(z_i;h_i)=\\alpha_{i}z_i+\\beta_i$,  where $h_i=\\{\\alpha_i,\\beta_i\\}$   \n",
        "2.   Non-affine neural transformers:   \n",
        ">$\\tau(z)=\\sum_k w_k \\tau_k(z)$,   where $w_k>0$ and $\\tau_k$ can be any monotnic function. \n",
        "3.   Integration-based transformers\n",
        ">$\\tau(z_i;h_i)=\\int_{0}^{z_i} g(z;\\alpha_i) dz+\\beta_i$, where $g()$ is any positive valued function."
      ]
    },
    {
      "cell_type": "markdown",
      "metadata": {
        "id": "YXcl-QiuDTar",
        "colab_type": "text"
      },
      "source": [
        "### Implementing the conditioner"
      ]
    },
    {
      "cell_type": "markdown",
      "metadata": {
        "id": "I39sAygFchOz",
        "colab_type": "text"
      },
      "source": [
        "**Note the each conditioner $c_i (1\\le i \\le D)$ accepts different dimentional input.**\n",
        "\n",
        "> It can be a arbiraty neural net for each conditioner (D number of neural ntworks). But scales poorly with dimention D. (Remeber the audio example D=440k)\n",
        "\n",
        "> It might be good idea to implement all $c_i$ using only one network:\n",
        "1.   Recurrent autoregressive flows:   $h_i=c(s_i)$ and $s_i=RNN(s_{i-1},z_i)$\n",
        "2.   Masked autoregressive flows:   $h=f(z)$ and Mask the appropriate weights (to satisfy the $<i$ constraint)\n",
        "3.   Coupling layers:  We will have a seperate presentation about this..! [MOST POPULAR ONE]\n",
        "\n"
      ]
    },
    {
      "cell_type": "markdown",
      "metadata": {
        "id": "M4FPAFVHEZ-y",
        "colab_type": "text"
      },
      "source": [
        "### Examples (NOT TODAY)"
      ]
    },
    {
      "cell_type": "markdown",
      "metadata": {
        "id": "lOH2vON7D8dk",
        "colab_type": "text"
      },
      "source": [
        "# Part 5: Applications"
      ]
    },
    {
      "cell_type": "markdown",
      "metadata": {
        "id": "YoWkKWMZ4mxB",
        "colab_type": "text"
      },
      "source": [
        "\n",
        "\n",
        "1.   Probabilistic modeling\n",
        "        >Density estimation\n",
        "\n",
        "        >Generation (Audio, images, video)\n",
        "        \n",
        "2.   Inference\n",
        "        > Importance and rejection sampling\n",
        "\n",
        "        > Reparameterizing models for MCMC\n",
        "\n",
        "        > Variational inference\n",
        "\n",
        "        > Likelihood-free inference\n",
        "\n",
        "3.   Using flows for representation learning\n",
        "\n"
      ]
    },
    {
      "cell_type": "markdown",
      "metadata": {
        "id": "HXLZahBNhE9V",
        "colab_type": "text"
      },
      "source": [
        "# References\n"
      ]
    },
    {
      "cell_type": "markdown",
      "metadata": {
        "id": "j8bxrajThImb",
        "colab_type": "text"
      },
      "source": [
        "\n",
        "\n",
        "1.   Normalizing Flows for Probabilistic Modeling and Inference [most important ref are here]  **[We have covered only 20% of this]**\n",
        "2.   Glow: Generative Flow with Invertible 1x1 Convolutions\n",
        "3.   WaveGlow: A Flow-based Generative Network for Speech synthesis\n",
        "4.  NICE: Non-linear independent components estimation. [coupling layer]\n",
        "5.  Density estimation using Real NVP [coupling layer]\n",
        "\n"
      ]
    }
  ]
}